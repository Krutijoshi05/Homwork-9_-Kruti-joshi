{
 "cells": [
  {
   "cell_type": "code",
   "execution_count": 1,
   "id": "0f002a50-72d4-4395-85fc-c9bc35e977d4",
   "metadata": {},
   "outputs": [
    {
     "name": "stdout",
     "output_type": "stream",
     "text": [
      "The sum of the first 10 integers is: 55\n",
      "The sum of the first 100 positive integers is: 5050\n"
     ]
    }
   ],
   "source": [
    "#Calculate the sum of the first n positive integers \n",
    "def calculate_sum(n):\n",
    "    return n*(n+1)//2\n",
    "\n",
    "#Calculate and print the sum for the first 10 positive integers \n",
    "sum_10 = calculate_sum(10)\n",
    "print(f\"The sum of the first 10 integers is: {sum_10}\")\n",
    "\n",
    "#Calculate and print the sum for the first 100 positive integers \n",
    "sum_100 = calculate_sum(100)\n",
    "print(f\"The sum of the first 100 positive integers is: {sum_100}\")\n"
   ]
  },
  {
   "cell_type": "code",
   "execution_count": null,
   "id": "def8741c-b505-4da9-ad83-c217b581f1ea",
   "metadata": {},
   "outputs": [],
   "source": []
  }
 ],
 "metadata": {
  "kernelspec": {
   "display_name": "anaconda-panel-2023.05-py310",
   "language": "python",
   "name": "conda-env-anaconda-panel-2023.05-py310-py"
  },
  "language_info": {
   "codemirror_mode": {
    "name": "ipython",
    "version": 3
   },
   "file_extension": ".py",
   "mimetype": "text/x-python",
   "name": "python",
   "nbconvert_exporter": "python",
   "pygments_lexer": "ipython3",
   "version": "3.11.5"
  }
 },
 "nbformat": 4,
 "nbformat_minor": 5
}
